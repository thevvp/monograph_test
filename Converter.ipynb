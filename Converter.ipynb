{
 "cells": [
  {
   "cell_type": "code",
   "execution_count": 4,
   "metadata": {},
   "outputs": [
    {
     "name": "stdout",
     "output_type": "stream",
     "text": [
      "Directory 'bin_data' not found.\n",
      "Directory 'bin_data' created.\n",
      "Converting data from txt to npy started...\n",
      "Try to read data from file g1.txt\n",
      "Mark all data from file g1.txt with label g1\n",
      "Try to read data from file g2.txt\n",
      "Mark all data from file g2.txt with label g2\n",
      "Writing converted data to 'bin_data\\ directory\n",
      "Success!\n"
     ]
    }
   ],
   "source": [
    "import os\n",
    "import numpy as np\n",
    "\n",
    "work_dir_path = os.getcwd()\n",
    "spectra_path = os.path.join(work_dir_path, 'txt_data')\n",
    "bin_data_path = os.path.join(work_dir_path, 'bin_data')\n",
    "if os.path.exists(bin_data_path) == False:\n",
    "    print('Directory \\'bin_data\\' not found.')\n",
    "    os.mkdir(bin_data_path)\n",
    "    print('Directory \\'bin_data\\' created.')\n",
    "\n",
    "def read_txt_data(data_path):\n",
    "    spectra_data = []\n",
    "    labels = []\n",
    "\n",
    "    print('Converting data from txt to npy started...')\n",
    "    files = os.listdir(data_path)\n",
    "    first_file = True\n",
    "    for file in files:\n",
    "        file_name, _ = os.path.splitext(file)\n",
    "        file_path = os.path.join(data_path, file)\n",
    "        group_spectra = []\n",
    "        first_row = True\n",
    "        with open(file_path, 'r') as data_in:\n",
    "            print('Try to read data from file ' + file)\n",
    "            while(True):\n",
    "                data = data_in.readline()\n",
    "                if data == '' or data == '\\n':\n",
    "                    break\n",
    "\n",
    "                freq_values = [float(x) for x in data.split(',')]\n",
    "                freq_values = np.array(freq_values)\n",
    "\n",
    "                if first_row:\n",
    "                    group_spectra = freq_values\n",
    "                    first_row = False\n",
    "                else:\n",
    "                    group_spectra = np.vstack((group_spectra, freq_values))\n",
    "\n",
    "        print('Mark all data from file ' + file + ' with label ' + file_name)\n",
    "        l = np.chararray((len(group_spectra[0]), ), itemsize=5)\n",
    "        l[:] = file_name\n",
    "\n",
    "        if first_file:\n",
    "            spectra_data = group_spectra\n",
    "            labels = l\n",
    "            first_file = False\n",
    "        else:\n",
    "            spectra_data = np.hstack((spectra_data, group_spectra))\n",
    "            labels = np.hstack((labels, l))\n",
    "\n",
    "    spectra_data = np.transpose(spectra_data)\n",
    "    return spectra_data, labels\n",
    "\n",
    "spectra, labels = read_txt_data(spectra_path)\n",
    "print('Writing converted data to \\'bin_data\\' directory')\n",
    "np.save(os.path.join(bin_data_path, 'data.npy'), spectra)\n",
    "np.save(os.path.join(bin_data_path, 'labels.npy'), labels)\n",
    "print('Success!')"
   ]
  },
  {
   "cell_type": "code",
   "execution_count": null,
   "metadata": {},
   "outputs": [],
   "source": []
  }
 ],
 "metadata": {
  "kernelspec": {
   "display_name": "Python 3",
   "language": "python",
   "name": "python3"
  },
  "language_info": {
   "codemirror_mode": {
    "name": "ipython",
    "version": 3
   },
   "file_extension": ".py",
   "mimetype": "text/x-python",
   "name": "python",
   "nbconvert_exporter": "python",
   "pygments_lexer": "ipython3",
   "version": "3.7.0"
  }
 },
 "nbformat": 4,
 "nbformat_minor": 2
}
